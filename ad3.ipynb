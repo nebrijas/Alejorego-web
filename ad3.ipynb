# Repositorio de trabajo del módulo de Periodismo de Datos 2

## Actividad dirigida 1

Esta actividad consiste en comentar una pieza de periodismo de datos, visualización de datos o infografía, con respecto a lo que hemos visto en el **Máster de Periodismo Digital y de Datos** de la **Universidad Nebrija**.

### Pieza de periodismo de datos del diario El Mundo

En este [enlace](https://www.elmundo.es/ciencia-y-salud/medio-ambiente/2021/12/30/61bcd569fc6c83a2308b459a.html) se ve la primera de tres entregas de periodismo de datos sobre ***Fauna amenazada por la extinción***, de la periodista **Belén García-Pozuelo**.

#### ¿Qué cosas me han impresionado de esta pieza?

1. Ofrece una radiografía de cómo opera el mercado negro de animales protegidos que sobrevive a la pandemia.
2. Su metodología, porque mezcla datos con visualización.
3. Sus fuentes variadas como la **Unidad Operativa Medioambiental de la Guardia Civil**; el **Servicio de Protección de la Naturaleza**; **Roberto A. Mejías** y **Elisabeth C. González**, autores del blog *Con arena en la mochila*; **Rafael Araujo**, especialista del Museo Nacional de Ciencias Naturales; el **Servicio Oficial de Inspección, Vigilancia y Regulación del Comercio Exterior**; la **Agencia de Investigación Medioambiental** y la **Oficina de las Naciones Unidas contra la Droga y el Delito**.
4. La investigación que incluyó la simulación de interés de compra en internet.
5. Sus gráficos e infografías divididas en varias categorías como: **el mercado de ejemplares vivos, heridos o que han muerto** y el de **las partes sueltas y derivados de animales**, el **auge de los decomisos de marfil de elefante**, **mapa de decomisos por regiones**, la **evolución mensual en España**, el **estado de los animales decomisados** y las **zonas más problemáticas**.
6. Buena redacción periodística en web, combina hipertextos y negritas.
7. Usa captura de la **simulación de interés de compra por internet**.
8. **Dato curioso**: la serie de tres entregas fue presentada como **trabajo final** del *Máster de Periodismo de Investigación, Datos y Visualización de El Mundo”*.

![Objetos de animales en extinción](https://phantom-elmundo.unidadeditorial.es/c7607e583593fa4b6e8ee25dedf5f99d/resize/473/f/webp/assets/multimedia/imagenes/2021/12/29/16408144710211.jpg)
#### Actividades dirigidas

- [Actividad dirigida 1](ad1.md)
- [Actividad dirigida 2](ad2.md)
